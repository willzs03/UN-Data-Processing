{
 "cells": [
  {
   "cell_type": "markdown",
   "metadata": {},
   "source": [
    "## Web-Scrapping Project-Merging data"
   ]
  },
  {
   "cell_type": "code",
   "execution_count": 31,
   "metadata": {},
   "outputs": [
    {
     "name": "stderr",
     "output_type": "stream",
     "text": [
      "WARNING: You are using pip version 21.1.2; however, version 21.1.3 is available.\n",
      "You should consider upgrading via the 'c:\\users\\walaz\\appdata\\local\\programs\\python\\python39\\python.exe -m pip install --upgrade pip' command.\n"
     ]
    }
   ],
   "source": [
    "# Install the required library\n",
    "!pip install -U -q requests"
   ]
  },
  {
   "cell_type": "code",
   "execution_count": 22,
   "metadata": {},
   "outputs": [],
   "source": [
    "# Load the required library\n",
    "import warnings\n",
    "warnings.filterwarnings('ignore')\n",
    "import numpy as np \n",
    "import pandas as pd \n",
    "import re"
   ]
  },
  {
   "cell_type": "code",
   "execution_count": 23,
   "metadata": {},
   "outputs": [],
   "source": [
    "# Read csv\n",
    "fao = pd.read_csv('search-07-03-21-041359.csv')\n",
    "ihsn = pd.read_csv('IHSN_SurveyData.csv')\n",
    "ilo = pd.read_csv('search-07-03-21-021534.csv')\n",
    "un_population = pd.read_csv('UN_CollectedDataTypes_202162184337.csv')"
   ]
  },
  {
   "cell_type": "code",
   "execution_count": 24,
   "metadata": {},
   "outputs": [
    {
     "data": {
      "text/plain": "(957, 5)"
     },
     "execution_count": 24,
     "metadata": {},
     "output_type": "execute_result"
    }
   ],
   "source": [
    "# FAO\n",
    "fao.head()\n",
    "fao['source'] = 'FAO'\n",
    "fao_new = fao[['nation', 'title', 'year_start', 'year_end', 'source']]\n",
    "fao_new['year_start'] = fao_new['year_start'].replace(0, np.nan)\n",
    "fao_new['year_end'] = fao_new['year_end'].replace(0, np.nan)\n",
    "fao_new.head()\n",
    "fao_new.shape"
   ]
  },
  {
   "cell_type": "code",
   "execution_count": 25,
   "metadata": {},
   "outputs": [
    {
     "data": {
      "text/plain": "(8551, 5)"
     },
     "execution_count": 25,
     "metadata": {},
     "output_type": "execute_result"
    }
   ],
   "source": [
    "# IHSN\n",
    "ihsn['source']='IHSN'\n",
    "ihsn_new = ihsn[['nation', 'title', 'year_start', 'year_end', 'source']]\n",
    "ihsn_new['year_start'] = ihsn_new['year_start'].replace(0, np.nan)\n",
    "ihsn_new['year_end'] = ihsn_new['year_end'].replace(0, np.nan)\n",
    "ihsn_new.head()\n",
    "ihsn_new.shape"
   ]
  },
  {
   "cell_type": "code",
   "execution_count": 26,
   "metadata": {},
   "outputs": [
    {
     "data": {
      "text/plain": "        nation                                              title  year_start  \\\n0  Afghanistan                       Living Condition Survey 2017        2017   \n1  Afghanistan                       Living Condition Survey 2014        2014   \n2  Afghanistan                       Living Condition Survey 2012        2012   \n3  Afghanistan  National Risk and Vulnerability Assessment 201...        2012   \n4  Afghanistan                       Living Condition Survey 2008        2008   \n\n   year_end source  \n0      2017    ILO  \n1      2014    ILO  \n2      2012    ILO  \n3      2012    ILO  \n4      2008    ILO  ",
      "text/html": "<div>\n<style scoped>\n    .dataframe tbody tr th:only-of-type {\n        vertical-align: middle;\n    }\n\n    .dataframe tbody tr th {\n        vertical-align: top;\n    }\n\n    .dataframe thead th {\n        text-align: right;\n    }\n</style>\n<table border=\"1\" class=\"dataframe\">\n  <thead>\n    <tr style=\"text-align: right;\">\n      <th></th>\n      <th>nation</th>\n      <th>title</th>\n      <th>year_start</th>\n      <th>year_end</th>\n      <th>source</th>\n    </tr>\n  </thead>\n  <tbody>\n    <tr>\n      <th>0</th>\n      <td>Afghanistan</td>\n      <td>Living Condition Survey 2017</td>\n      <td>2017</td>\n      <td>2017</td>\n      <td>ILO</td>\n    </tr>\n    <tr>\n      <th>1</th>\n      <td>Afghanistan</td>\n      <td>Living Condition Survey 2014</td>\n      <td>2014</td>\n      <td>2014</td>\n      <td>ILO</td>\n    </tr>\n    <tr>\n      <th>2</th>\n      <td>Afghanistan</td>\n      <td>Living Condition Survey 2012</td>\n      <td>2012</td>\n      <td>2012</td>\n      <td>ILO</td>\n    </tr>\n    <tr>\n      <th>3</th>\n      <td>Afghanistan</td>\n      <td>National Risk and Vulnerability Assessment 201...</td>\n      <td>2012</td>\n      <td>2012</td>\n      <td>ILO</td>\n    </tr>\n    <tr>\n      <th>4</th>\n      <td>Afghanistan</td>\n      <td>Living Condition Survey 2008</td>\n      <td>2008</td>\n      <td>2008</td>\n      <td>ILO</td>\n    </tr>\n  </tbody>\n</table>\n</div>"
     },
     "execution_count": 26,
     "metadata": {},
     "output_type": "execute_result"
    }
   ],
   "source": [
    "# ILO\n",
    "ilo['source']='ILO'\n",
    "ilo_new = ilo[['nation', 'title', 'year_start', 'year_end', 'source']]\n",
    "ilo_new['year_start'] = ilo_new['year_start'].replace(0, np.nan)\n",
    "ilo_new['year_end'] = ilo_new['year_end'].replace(0, np.nan)\n",
    "ilo_new.head()"
   ]
  },
  {
   "cell_type": "code",
   "execution_count": 27,
   "metadata": {},
   "outputs": [],
   "source": [
    "# UN POPULATION\n",
    "un_population['source']='UN Population'"
   ]
  },
  {
   "cell_type": "code",
   "execution_count": 28,
   "metadata": {},
   "outputs": [
    {
     "data": {
      "text/plain": "        nation                                              title year_start  \\\n0          NaN                                                NaN        NaN   \n1          NaN                                                NaN        NaN   \n2  Afghanistan  Afghanistan 1972-1974 National Demographic and...       1972   \n3  Afghanistan                            Afghanistan 1979 Census       1979   \n4  Afghanistan  Afghanistan 1997 Multiple Indicator Cluster Su...       1997   \n\n  year_end         source  \n0      NaN  UN Population  \n1      NaN  UN Population  \n2     1974  UN Population  \n3     1979  UN Population  \n4     1997  UN Population  ",
      "text/html": "<div>\n<style scoped>\n    .dataframe tbody tr th:only-of-type {\n        vertical-align: middle;\n    }\n\n    .dataframe tbody tr th {\n        vertical-align: top;\n    }\n\n    .dataframe thead th {\n        text-align: right;\n    }\n</style>\n<table border=\"1\" class=\"dataframe\">\n  <thead>\n    <tr style=\"text-align: right;\">\n      <th></th>\n      <th>nation</th>\n      <th>title</th>\n      <th>year_start</th>\n      <th>year_end</th>\n      <th>source</th>\n    </tr>\n  </thead>\n  <tbody>\n    <tr>\n      <th>0</th>\n      <td>NaN</td>\n      <td>NaN</td>\n      <td>NaN</td>\n      <td>NaN</td>\n      <td>UN Population</td>\n    </tr>\n    <tr>\n      <th>1</th>\n      <td>NaN</td>\n      <td>NaN</td>\n      <td>NaN</td>\n      <td>NaN</td>\n      <td>UN Population</td>\n    </tr>\n    <tr>\n      <th>2</th>\n      <td>Afghanistan</td>\n      <td>Afghanistan 1972-1974 National Demographic and...</td>\n      <td>1972</td>\n      <td>1974</td>\n      <td>UN Population</td>\n    </tr>\n    <tr>\n      <th>3</th>\n      <td>Afghanistan</td>\n      <td>Afghanistan 1979 Census</td>\n      <td>1979</td>\n      <td>1979</td>\n      <td>UN Population</td>\n    </tr>\n    <tr>\n      <th>4</th>\n      <td>Afghanistan</td>\n      <td>Afghanistan 1997 Multiple Indicator Cluster Su...</td>\n      <td>1997</td>\n      <td>1997</td>\n      <td>UN Population</td>\n    </tr>\n  </tbody>\n</table>\n</div>"
     },
     "execution_count": 28,
     "metadata": {},
     "output_type": "execute_result"
    }
   ],
   "source": [
    "# Extract start and end year\n",
    "un_population['year'] = un_population['Catalog'].str.extract(\"(\\d*\\-*\\d+)\", expand=True)\n",
    "un_population['start_year'] = un_population['year'].str[:4]\n",
    "un_population['end_year'] = un_population['year'].str.extract('\\-(\\d{4}\\s*$)', expand=True)\n",
    "un_population['end_year'].fillna(un_population['start_year'], inplace=True)\n",
    "\n",
    "# Rename columns in UN Population\n",
    "un_new = un_population[['Location', 'Catalog', 'start_year', 'end_year', 'source']]\n",
    "un_new = un_new.rename(columns={'Location': 'nation', 'Catalog': 'title', 'start_year':'year_start', 'end_year':'year_end', 'source':'source'})\n",
    "un_new.head()"
   ]
  },
  {
   "cell_type": "code",
   "execution_count": 29,
   "metadata": {},
   "outputs": [
    {
     "data": {
      "text/plain": "                         nation  \\\n0                       Ecuador   \n1                        RWANDA   \n2                        Rwanda   \n3                       Nigeria   \n4                       Nigeria   \n5                       Nigeria   \n6                        Rwanda   \n7                       Nigeria   \n8                       Senegal   \n9                     Indonesia   \n10                       Malawi   \n11                       Rwanda   \n12                      Ecuador   \n13  United Republic of Tanzania   \n14  United Republic of Tanzania   \n15                      Ecuador   \n16                       RWANDA   \n17                      Nigeria   \n18                       RWANDA   \n19                      Namibia   \n\n                                                title year_start year_end  \\\n0   Annual Agricultural Area and Production Survey...     2010.0   2010.0   \n1   Comprehensive Food Security and Vulnerability ...     2012.0   2012.0   \n2   Impact, Maintenance, and Sustainability of Irr...     2015.0   2018.0   \n3   General Household Survey-Panel Wave 3 (Post Ha...     2016.0   2016.0   \n4   Food Insecurity in Conflict Affected Regions i...     2017.0   2017.0   \n5   General Household Survey-Panel 2010-2011 (Post...     2011.0   2011.0   \n6   Comprehensive Food Security and Vulnerability ...     2006.0   2006.0   \n7   General Household Survey-Panel Wave 3 (Post Pl...     2015.0   2015.0   \n8                Annual Agricultural Survey 2017-2018     2017.0   2017.0   \n9                            Agricultural Census 2013     2013.0   2013.0   \n10  Integrated Household Panel Survey 2010-2013-20...     2010.0   2016.0   \n11            Rwanda Seasonal Agriculture Survey 2017     2016.0   2017.0   \n12  Annual Agricultural Area and Production Survey...     2018.0   2018.0   \n13         Agriculture Sample Census Survey 2007-2008     2009.0   2009.0   \n14         Agriculture Sample Census Survey 2002-2003     2004.0   2004.0   \n15  Annual Agricultural Area and Production Survey...        NaN      NaN   \n16  Comprehensive Food Security and Vulnerability ...     2015.0   2015.0   \n17              Private Farmer Livestock-Poultry 2006     2007.0   2007.0   \n18  Comprehensive Food Security and Vulnerability ...     2009.0   2009.0   \n19  Namibia Census of Agriculture 2013/2014 - Comm...     2014.0   2014.0   \n\n   source  \n0     FAO  \n1     FAO  \n2     FAO  \n3     FAO  \n4     FAO  \n5     FAO  \n6     FAO  \n7     FAO  \n8     FAO  \n9     FAO  \n10    FAO  \n11    FAO  \n12    FAO  \n13    FAO  \n14    FAO  \n15    FAO  \n16    FAO  \n17    FAO  \n18    FAO  \n19    FAO  ",
      "text/html": "<div>\n<style scoped>\n    .dataframe tbody tr th:only-of-type {\n        vertical-align: middle;\n    }\n\n    .dataframe tbody tr th {\n        vertical-align: top;\n    }\n\n    .dataframe thead th {\n        text-align: right;\n    }\n</style>\n<table border=\"1\" class=\"dataframe\">\n  <thead>\n    <tr style=\"text-align: right;\">\n      <th></th>\n      <th>nation</th>\n      <th>title</th>\n      <th>year_start</th>\n      <th>year_end</th>\n      <th>source</th>\n    </tr>\n  </thead>\n  <tbody>\n    <tr>\n      <th>0</th>\n      <td>Ecuador</td>\n      <td>Annual Agricultural Area and Production Survey...</td>\n      <td>2010.0</td>\n      <td>2010.0</td>\n      <td>FAO</td>\n    </tr>\n    <tr>\n      <th>1</th>\n      <td>RWANDA</td>\n      <td>Comprehensive Food Security and Vulnerability ...</td>\n      <td>2012.0</td>\n      <td>2012.0</td>\n      <td>FAO</td>\n    </tr>\n    <tr>\n      <th>2</th>\n      <td>Rwanda</td>\n      <td>Impact, Maintenance, and Sustainability of Irr...</td>\n      <td>2015.0</td>\n      <td>2018.0</td>\n      <td>FAO</td>\n    </tr>\n    <tr>\n      <th>3</th>\n      <td>Nigeria</td>\n      <td>General Household Survey-Panel Wave 3 (Post Ha...</td>\n      <td>2016.0</td>\n      <td>2016.0</td>\n      <td>FAO</td>\n    </tr>\n    <tr>\n      <th>4</th>\n      <td>Nigeria</td>\n      <td>Food Insecurity in Conflict Affected Regions i...</td>\n      <td>2017.0</td>\n      <td>2017.0</td>\n      <td>FAO</td>\n    </tr>\n    <tr>\n      <th>5</th>\n      <td>Nigeria</td>\n      <td>General Household Survey-Panel 2010-2011 (Post...</td>\n      <td>2011.0</td>\n      <td>2011.0</td>\n      <td>FAO</td>\n    </tr>\n    <tr>\n      <th>6</th>\n      <td>Rwanda</td>\n      <td>Comprehensive Food Security and Vulnerability ...</td>\n      <td>2006.0</td>\n      <td>2006.0</td>\n      <td>FAO</td>\n    </tr>\n    <tr>\n      <th>7</th>\n      <td>Nigeria</td>\n      <td>General Household Survey-Panel Wave 3 (Post Pl...</td>\n      <td>2015.0</td>\n      <td>2015.0</td>\n      <td>FAO</td>\n    </tr>\n    <tr>\n      <th>8</th>\n      <td>Senegal</td>\n      <td>Annual Agricultural Survey 2017-2018</td>\n      <td>2017.0</td>\n      <td>2017.0</td>\n      <td>FAO</td>\n    </tr>\n    <tr>\n      <th>9</th>\n      <td>Indonesia</td>\n      <td>Agricultural Census 2013</td>\n      <td>2013.0</td>\n      <td>2013.0</td>\n      <td>FAO</td>\n    </tr>\n    <tr>\n      <th>10</th>\n      <td>Malawi</td>\n      <td>Integrated Household Panel Survey 2010-2013-20...</td>\n      <td>2010.0</td>\n      <td>2016.0</td>\n      <td>FAO</td>\n    </tr>\n    <tr>\n      <th>11</th>\n      <td>Rwanda</td>\n      <td>Rwanda Seasonal Agriculture Survey 2017</td>\n      <td>2016.0</td>\n      <td>2017.0</td>\n      <td>FAO</td>\n    </tr>\n    <tr>\n      <th>12</th>\n      <td>Ecuador</td>\n      <td>Annual Agricultural Area and Production Survey...</td>\n      <td>2018.0</td>\n      <td>2018.0</td>\n      <td>FAO</td>\n    </tr>\n    <tr>\n      <th>13</th>\n      <td>United Republic of Tanzania</td>\n      <td>Agriculture Sample Census Survey 2007-2008</td>\n      <td>2009.0</td>\n      <td>2009.0</td>\n      <td>FAO</td>\n    </tr>\n    <tr>\n      <th>14</th>\n      <td>United Republic of Tanzania</td>\n      <td>Agriculture Sample Census Survey 2002-2003</td>\n      <td>2004.0</td>\n      <td>2004.0</td>\n      <td>FAO</td>\n    </tr>\n    <tr>\n      <th>15</th>\n      <td>Ecuador</td>\n      <td>Annual Agricultural Area and Production Survey...</td>\n      <td>NaN</td>\n      <td>NaN</td>\n      <td>FAO</td>\n    </tr>\n    <tr>\n      <th>16</th>\n      <td>RWANDA</td>\n      <td>Comprehensive Food Security and Vulnerability ...</td>\n      <td>2015.0</td>\n      <td>2015.0</td>\n      <td>FAO</td>\n    </tr>\n    <tr>\n      <th>17</th>\n      <td>Nigeria</td>\n      <td>Private Farmer Livestock-Poultry 2006</td>\n      <td>2007.0</td>\n      <td>2007.0</td>\n      <td>FAO</td>\n    </tr>\n    <tr>\n      <th>18</th>\n      <td>RWANDA</td>\n      <td>Comprehensive Food Security and Vulnerability ...</td>\n      <td>2009.0</td>\n      <td>2009.0</td>\n      <td>FAO</td>\n    </tr>\n    <tr>\n      <th>19</th>\n      <td>Namibia</td>\n      <td>Namibia Census of Agriculture 2013/2014 - Comm...</td>\n      <td>2014.0</td>\n      <td>2014.0</td>\n      <td>FAO</td>\n    </tr>\n  </tbody>\n</table>\n</div>"
     },
     "execution_count": 29,
     "metadata": {},
     "output_type": "execute_result"
    }
   ],
   "source": [
    "# Merge data sets\n",
    "merge = pd.concat([fao_new, ihsn_new, ilo_new, un_new])\n",
    "merge.head(20)"
   ]
  },
  {
   "cell_type": "code",
   "execution_count": 30,
   "metadata": {},
   "outputs": [],
   "source": [
    "# ouput csv\n",
    "merge.to_csv('merge_data.csv',index=False)"
   ]
  },
  {
   "cell_type": "code",
   "execution_count": 30,
   "metadata": {},
   "outputs": [],
   "source": []
  }
 ],
 "metadata": {
  "kernelspec": {
   "display_name": "Python 3",
   "language": "python",
   "name": "python3"
  },
  "language_info": {
   "codemirror_mode": {
    "name": "ipython",
    "version": 3
   },
   "file_extension": ".py",
   "mimetype": "text/x-python",
   "name": "python",
   "nbconvert_exporter": "python",
   "pygments_lexer": "ipython3",
   "version": "3.8.5"
  }
 },
 "nbformat": 4,
 "nbformat_minor": 4
}